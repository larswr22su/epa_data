{
 "cells": [
  {
   "cell_type": "code",
   "execution_count": 4,
   "metadata": {},
   "outputs": [
    {
     "name": "stdout",
     "output_type": "stream",
     "text": [
      "\n",
      "\n",
      "\n",
      "\n",
      "\n",
      "\n",
      "\n",
      "\n",
      "\n",
      "\n"
     ]
    }
   ],
   "source": [
    "import os\n",
    "import pandas as pd\n",
    "i=0\n",
    "df=[]\n",
    "a=[]\n",
    "for f in os.listdir('C:\\epa_data'):\n",
    "    if f.endswith('.csv'):\n",
    "        fn, fext=os.path.split(f)\n",
    "        print(fn)\n",
    "        #df[i]=pd.read_csv('C:\\epa_data\\{}.csv'.format(fn))\n",
    "        #a[i]=df[i].loc[: , strcol_name].mean()\n",
    "#print(a)\n",
    "        \n",
    "        "
   ]
  },
  {
   "cell_type": "code",
   "execution_count": 49,
   "metadata": {},
   "outputs": [],
   "source": [
    "% matplotlib inline "
   ]
  },
  {
   "cell_type": "code",
   "execution_count": 5,
   "metadata": {},
   "outputs": [
    {
     "data": {
      "text/plain": [
       "''"
      ]
     },
     "execution_count": 5,
     "metadata": {},
     "output_type": "execute_result"
    }
   ],
   "source": [
    "fn\n"
   ]
  },
  {
   "cell_type": "code",
   "execution_count": 81,
   "metadata": {},
   "outputs": [
    {
     "name": "stdout",
     "output_type": "stream",
     "text": [
      "csv file found:\tMD_BALTIMORE_2018.csv\n",
      "csv file found:\tME_ORONO_2014.csv\n",
      "csv file found:\tME_PORTLAND_2014.csv\n",
      "csv file found:\tNH_CONCORD_2017.csv\n",
      "csv file found:\tNM_ALBUQUERQUE_2017.csv\n",
      "csv file found:\tNM_CARLSBAD_2014.csv\n",
      "csv file found:\tNM_NAVAJO_LAKE_2014.csv\n",
      "csv file found:\tNV_LAS_VEGAS_2018.csv\n",
      "csv file found:\tOR_PORTLAND_2011.csv\n",
      "csv file found:\tVA_VIRGINIA_BEACH_2011.csv\n",
      "Total files found:\t10\n",
      "The minimum recorded Gamma count rate  was 997.782727896 CPM.\n",
      "This occured in BALTIMORE MD\n",
      "and the maximum recorded Gamma count rate was 4181.33738259 CPM.\n",
      "This occured in PORTLAND ME\n",
      "10\n"
     ]
    },
    {
     "data": {
      "text/plain": [
       "<Container object of 10 artists>"
      ]
     },
     "execution_count": 81,
     "metadata": {},
     "output_type": "execute_result"
    },
    {
     "data": {
      "image/png": "[encoded data removed]",
      "text/plain": [
       "<matplotlib.figure.Figure at 0x1051f4e0>"
      ]
     },
     "metadata": {},
     "output_type": "display_data"
    }
   ],
   "source": [
    "import os #os module imported here\n",
    "import pandas as pd\n",
    "import numpy as np\n",
    "# would like to put on a map of US in future\n",
    "import matplotlib.pyplot as plt\n",
    "location=\"C:\\\\epa_data\"\n",
    "counter = 0 #keep a count of all files found\n",
    "csvfiles = [] #list to store all csv files found at location\n",
    "a=[]\n",
    "strcol_name=\"GAMMA COUNT RATE R02 (CPM)\"\n",
    "for file in os.listdir(location):\n",
    "    try:\n",
    "        if file.endswith(\".csv\"):\n",
    "            print \"csv file found:\\t\", file\n",
    "            csvfiles.append(str(file))\n",
    "            counter = counter+1\n",
    "    except Exception as e:\n",
    "        raise e\n",
    "        print \"No files found here!\"\n",
    "\n",
    "print \"Total files found:\\t\", counter\n",
    "count =0\n",
    "#print csvfiles\n",
    "pd.read_csv(str(location)+'\\\\'+csvfiles[count])\n",
    "#print \"HI\"\n",
    "for i in range(counter):\n",
    "            #fn, fext=os.path.split(str(file))\n",
    "            df=pd.read_csv(str(location)+'\\\\'+csvfiles[count])\n",
    "            #print (count)\n",
    "            a.append(df.loc[: , strcol_name].mean())\n",
    "            count=count+1\n",
    "print(\"The minimum recorded Gamma count rate  was \"+str(min(a))+\" CPM.\")\n",
    "index_min = np.argmin(a)\n",
    "#this works with current set, but some cities have and extra _ in the title\n",
    "#I don't know how to handle that\n",
    "state, city, year=csvfiles[index_min].split('_') \n",
    "print(\"This occured in \"+str(city)+ \" \" +str(state))\n",
    "print(\"and the maximum recorded Gamma count rate was \"+str(max(a))+\" CPM.\")\n",
    "index_max = np.argmax(a)\n",
    "state, city, year=csvfiles[index_max].split('_') \n",
    "print(\"This occured in \"+str(city)+ \" \" +str(state))\n",
    "plt.title(\"Gamma Count Rate for cities in US\")\n",
    "plt.ylabel(\"Counts per Million\")\n",
    "states=[]\n",
    "print counter\n",
    "for i in range(counter):\n",
    "    st=csvfiles[i]\n",
    "    states.append(st[0:2])\n",
    "    #states.append(st[3:6]+st[0:2]) \n",
    "    #can't expand graph to print city with state yet\n",
    "plt.xticks(range(counter), states)\n",
    "plt.bar(range(0,counter),a, width=0.7, color='r',align='center')\n"
   ]
  },
  {
   "cell_type": "code",
   "execution_count": 7,
   "metadata": {},
   "outputs": [
    {
     "data": {
      "text/plain": [
       "'C:\\\\Users\\\\Laura'"
      ]
     },
     "execution_count": 7,
     "metadata": {},
     "output_type": "execute_result"
    }
   ],
   "source": [
    "location\n"
   ]
  },
  {
   "cell_type": "code",
   "execution_count": 9,
   "metadata": {},
   "outputs": [
    {
     "data": {
      "text/plain": [
       "10"
      ]
     },
     "execution_count": 9,
     "metadata": {},
     "output_type": "execute_result"
    }
   ],
   "source": [
    "counter\n"
   ]
  },
  {
   "cell_type": "code",
   "execution_count": null,
   "metadata": {},
   "outputs": [],
   "source": []
  }
 ],
 "metadata": {
  "kernelspec": {
   "display_name": "Python 2",
   "language": "python",
   "name": "python2"
  },
  "language_info": {
   "codemirror_mode": {
    "name": "ipython",
    "version": 2
   },
   "file_extension": ".py",
   "mimetype": "text/x-python",
   "name": "python",
   "nbconvert_exporter": "python",
   "pygments_lexer": "ipython2",
   "version": "2.7.14"
  }
 },
 "nbformat": 4,
 "nbformat_minor": 2
}
